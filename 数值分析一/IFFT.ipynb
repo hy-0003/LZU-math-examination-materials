{
 "cells": [
  {
   "cell_type": "code",
   "execution_count": 1,
   "id": "4e270dc0",
   "metadata": {},
   "outputs": [
    {
     "name": "stdout",
     "output_type": "stream",
     "text": [
      "[9.+1.79649064e-15j 7.+2.60902411e-15j 5.+2.31233533e-15j\n",
      " 3.-8.04911693e-16j 1.+5.10075787e-16j 4.-3.30291350e-15j\n",
      " 6.-8.54265952e-16j 8.-2.44249065e-15j]\n"
     ]
    }
   ],
   "source": [
    "# IDFT\n",
    "import cmath\n",
    "import numpy as np\n",
    "\n",
    "\n",
    "def DFT(a):\n",
    "    N = len(a)\n",
    "    W = gen_W(N)\n",
    "    a_0 = np.dot(W,a)\n",
    "    return a_0\n",
    "\n",
    "\n",
    "def IDFT(a):\n",
    "    N = len(a)\n",
    "    W = gen_W(N)\n",
    "    W_inv = np.linalg.inv(W)\n",
    "    a_0 = np.dot(W_inv,a)\n",
    "    return a_0\n",
    "\n",
    "\n",
    "def gen_W(N):\n",
    "    w = cmath.exp(-2j*cmath.pi/N)\n",
    "    W = np.zeros((N, N), dtype=complex)\n",
    "    for j in range(N):\n",
    "        for k in range(N):\n",
    "            # 计算 W 矩阵的每个元素\n",
    "            W[j, k] = w ** (j*k)\n",
    "\n",
    "    return W\n",
    "\n",
    "\n",
    "a = [9, 7, 5, 3, 1, 4, 6, 8]\n",
    "\n",
    "print(IDFT(DFT(a)))"
   ]
  },
  {
   "cell_type": "code",
   "execution_count": 2,
   "id": "38114d26",
   "metadata": {},
   "outputs": [
    {
     "name": "stdout",
     "output_type": "stream",
     "text": [
      "[(9+1.940029698730969e-15j), (7.000000000000002+1.1102230246251565e-15j), (5.000000000000002+6.123233995736755e-17j), (3.000000000000001-2.0249971616076966e-15j), (1-2.0012620386883366e-15j), (3.9999999999999982-3.069657903260921e-15j), (5.999999999999998-1.4695761589768232e-15j), (7.999999999999999-6.547530432423774e-15j)]\n"
     ]
    }
   ],
   "source": [
    "# IFFT\n",
    "import cmath\n",
    "import numpy as np\n",
    "\n",
    "\n",
    "\n",
    "m = 3\n",
    "a = [9, 7, 5, 3, 1, 4, 6, 8]\n",
    "N = 2**m\n",
    "\n",
    "\n",
    "a_0 = [a[i] for i in range(0, len(a))]\n",
    "S = N\n",
    "\n",
    "\n",
    "\n",
    "def tran(a):\n",
    "    n = len(a)\n",
    "    num_bits = n.bit_length() - 1\n",
    "    result = [0] * n\n",
    "    for i in range(n):\n",
    "        binary_str = bin(i)[2:].zfill(num_bits)\n",
    "        rev_i = int(binary_str[::-1], 2)\n",
    "        result[rev_i] = a[i]\n",
    "    return result\n",
    "\n",
    "\n",
    "\n",
    "def FFT(a,m):\n",
    "    N = 2**m\n",
    "    a_0 = a.copy()\n",
    "    S = N\n",
    "\n",
    "    while S > 1:\n",
    "        T = N//S\n",
    "        for k in range(1, T+1):\n",
    "            for l in range((k-1)*S, (k-1)*S+S//2 ):\n",
    "                y = a_0[l]\n",
    "                a_0[l] = y + a_0[l+S//2]\n",
    "                a_0[l+S//2] = (y - a_0[l+S//2])*cmath.exp(-2j*cmath.pi*l/S)\n",
    "        S = S//2\n",
    "\n",
    "    return tran(a_0)\n",
    "\n",
    "\n",
    "def IFFT(a,m):\n",
    "    N = 2**m\n",
    "    a_0 = a.copy()\n",
    "    S = N\n",
    "\n",
    "    while S > 1:\n",
    "        T = N//S\n",
    "        for k in range(1, T+1):\n",
    "            for l in range((k-1)*S, (k-1)*S+S//2 ):\n",
    "                y = a_0[l]\n",
    "                a_0[l] = ( y + a_0[l+S//2] )\n",
    "                a_0[l+S//2] = ( (y - a_0[l+S//2])*cmath.exp(2j*cmath.pi*l/S) )\n",
    "        S = S//2\n",
    "    \n",
    "    a_0 = [a_0[i]/N for i in range(0, len(a_0))]\n",
    "    return tran(a_0)\n",
    "\n",
    "\n",
    "\n",
    "\n",
    "result = IFFT(FFT(a, m),m)\n",
    "\n",
    "print(result)"
   ]
  }
 ],
 "metadata": {
  "kernelspec": {
   "display_name": "pytorch-gpu",
   "language": "python",
   "name": "python3"
  },
  "language_info": {
   "codemirror_mode": {
    "name": "ipython",
    "version": 3
   },
   "file_extension": ".py",
   "mimetype": "text/x-python",
   "name": "python",
   "nbconvert_exporter": "python",
   "pygments_lexer": "ipython3",
   "version": "3.11.11"
  }
 },
 "nbformat": 4,
 "nbformat_minor": 5
}
