{
 "cells": [
  {
   "cell_type": "code",
   "execution_count": 11,
   "metadata": {},
   "outputs": [
    {
     "name": "stdout",
     "output_type": "stream",
     "text": [
      "从小到大：0.7499000049995057\n",
      "从大到小：0.7499000049995\n",
      "精确值：0.7499000049995\n",
      "从小到大：0.7499666672222073\n",
      "从大到小：0.7499666672222036\n",
      "精确值：0.7499666672222037\n"
     ]
    }
   ],
   "source": [
    "\n",
    "# input_str=input(\"please input n and m（用空格分隔，m=0 表示从小到大，m=1 表示从大到小）：\")\n",
    "# n, m = map(int, input_str.split())  # 将输入的字符串分割并转换为整数\n",
    "#m=0代表从小到大\n",
    "#m=1代表从大到小\n",
    "\n",
    "\n",
    "def SN(n, m):\n",
    "    s = 0\n",
    "    if m == 0:  # 从小到大\n",
    "        for i in range(2, n + 1):\n",
    "            s += 1 / (i**2 - 1)\n",
    "        print(f\"从小到大：{s}\")  # 使用 f-string 格式化字符串\n",
    "    elif m == 1:  # 从大到小\n",
    "        for i in range(n, 1, -1):\n",
    "            s += 1 / (i**2 - 1)\n",
    "        print(f\"从大到小：{s}\")  # 使用 f-string 格式化字符串\n",
    "    else:\n",
    "        print(\"输入的 m 值无效！m 必须为 0 或 1。\")\n",
    "        \n",
    "# SN(n,m)\n",
    "\n",
    "\n",
    "def S(n):\n",
    "    print(f\"精确值：{1/2*(3/2-1/n-1/(n+1))}\")\n",
    "\n",
    "#计算S100000\n",
    "SN(10000,0)\n",
    "SN(10000,1)\n",
    "S(10000)\n",
    "#计算S30000\n",
    "SN(30000,0)\n",
    "SN(30000,1)\n",
    "S(30000)\n",
    "\n",
    "\n"
   ]
  },
  {
   "cell_type": "code",
   "execution_count": 12,
   "metadata": {},
   "outputs": [
    {
     "name": "stdout",
     "output_type": "stream",
     "text": [
      "0.0006091729809042379\n",
      "0.0006091729809042699\n"
     ]
    }
   ],
   "source": [
    "from math import *\n",
    "\n",
    "a=2/180*pi\n",
    "print(1-cos(a))\n",
    "print(2*(sin(a/2))**2)"
   ]
  },
  {
   "cell_type": "code",
   "execution_count": 13,
   "metadata": {},
   "outputs": [
    {
     "name": "stdout",
     "output_type": "stream",
     "text": [
      "-4.342727686266486e-05\n",
      "-4.342727686267685e-05\n"
     ]
    }
   ],
   "source": [
    "from math import *\n",
    "\n",
    "a1=1\n",
    "a2=1.0001\n",
    "print(log10(a1)-log10(a2))\n",
    "print(log10(a1/a2))"
   ]
  },
  {
   "cell_type": "code",
   "execution_count": 14,
   "metadata": {},
   "outputs": [
    {
     "name": "stdout",
     "output_type": "stream",
     "text": [
      "In0(20) = -30.19239488558378\n",
      "In1(20) = 0.04554488407581806\n",
      "In0(30) = -3296762455608386.5\n",
      "In1(30) = 0.03225806451612903\n"
     ]
    }
   ],
   "source": [
    "import math  # 导入 math 模块以使用 e\n",
    "\n",
    "#n = int(input(\"请输入一个整数 n：\"))  # 获取用户输入并转换为整数\n",
    "\n",
    "def In0(n):\n",
    "    if n < 1:  # 检查 n 是否有效\n",
    "        raise ValueError(\"n 必须是大于等于 1 的整数\")\n",
    "    \n",
    "    In_list = [0] * (n + 1)  # 初始化列表\n",
    "    In_list[1] = 1 / math.e  # 使用 math.e 获取自然常数 e\n",
    "\n",
    "    for i in range(2, n + 1):  # 注意循环范围应该是 2 到 n（包含 n）\n",
    "        In_list[i] = 1 - i * In_list[i - 1]\n",
    "    \n",
    "    return In_list[n]  # 返回 In[n]\n",
    "\n",
    "# 调用函数并打印结果\n",
    "#result = In0(n)\n",
    "#print(f\"In0({n}) = {result}\")\n",
    "\n",
    "\n",
    "def In1(n):\n",
    "    if n < 1:  # 检查 n 是否有效\n",
    "        raise ValueError(\"n 必须是大于等于 1 的整数\")\n",
    "    \n",
    "    In_list = [0] * 32  # 初始化列表\n",
    "    In_list[31] = 0  \n",
    "\n",
    "    for i in range(31,n-1,-1):  \n",
    "        In_list[i-1] = (1/i)*(1-In_list[i])\n",
    "    \n",
    "    return In_list[n]  # 返回 In[n]\n",
    "\n",
    "# 调用函数并打印结果\n",
    "#result = In1(n)\n",
    "#print(f\"In1({n}) = {result}\")\n",
    "\n",
    "print(f\"In0({20}) = {In0(20)}\")\n",
    "print(f\"In1({20}) = {In1(20)}\")\n",
    "\n",
    "print(f\"In0({30}) = {In0(30)}\")\n",
    "print(f\"In1({30}) = {In1(30)}\")"
   ]
  },
  {
   "cell_type": "code",
   "execution_count": 15,
   "metadata": {},
   "outputs": [
    {
     "name": "stdout",
     "output_type": "stream",
     "text": [
      "8.899450853031155e-11\n",
      "-10.001000099986529\n"
     ]
    }
   ],
   "source": [
    "from math import *\n",
    "def y(a,b,n):\n",
    "    x=[0]*(n+1)\n",
    "    x[0]=a\n",
    "    x[1]=b\n",
    "    for i in range(2,n+1):\n",
    "        x[i]=100.01*x[i-1]-x[i-2]\n",
    "\n",
    "    return x[n]\n",
    "\n",
    "\n",
    "#l=input(\"请输入y0,y1,以及n:\")\n",
    "#a, b ,n = map(float, l.split())  # 将输入的字符串分割并转换为整数\n",
    "#n=int(n)\n",
    "\n",
    "#result = y(a,b,n)\n",
    "#print(f\"y_{n} = {result}\")\n",
    "\n",
    "print(y(1,0.01,5))\n",
    "print(y(1+0.00001,0.01,5))"
   ]
  }
 ],
 "metadata": {
  "kernelspec": {
   "display_name": "pytorch-gpu",
   "language": "python",
   "name": "python3"
  },
  "language_info": {
   "codemirror_mode": {
    "name": "ipython",
    "version": 3
   },
   "file_extension": ".py",
   "mimetype": "text/x-python",
   "name": "python",
   "nbconvert_exporter": "python",
   "pygments_lexer": "ipython3",
   "version": "3.11.11"
  }
 },
 "nbformat": 4,
 "nbformat_minor": 2
}
